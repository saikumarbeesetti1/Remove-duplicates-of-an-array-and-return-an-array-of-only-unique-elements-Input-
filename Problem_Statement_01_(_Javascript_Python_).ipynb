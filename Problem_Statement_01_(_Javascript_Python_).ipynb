{
  "cells": [
    {
      "cell_type": "code",
      "source": [],
      "metadata": {
        "id": "LLtDyn9kAuBe"
      },
      "execution_count": null,
      "outputs": []
    },
    {
      "cell_type": "markdown",
      "source": [
        "# Q2. You will be given a list. You have to print a list whose 1st element should be largest and 2nd should be the smallest then the 3rd should be 2nd largest and 4th should be 2nd smallest and so on.\n",
        "Input Format:\n",
        "\n",
        "The first line will have space-separated elements of the list.\n",
        "\n",
        "Output Format:\n",
        "\n",
        "Print the required list.\n",
        "\n",
        "Sample Input 0:\n",
        "\n",
        "1 2 3 4 5 6\n",
        "\n",
        "Sample Output 0:\n",
        "\n",
        "6 1 5 2 4 3\n",
        "\n"
      ],
      "metadata": {
        "id": "_JIlLzSyBAfj"
      }
    },
    {
      "cell_type": "code",
      "source": [
        "# Given list\n",
        "L1 = [1,2,3,4,5,6]\n",
        "\n",
        "# len function\n",
        "length = len(L1)\n",
        "\n",
        "#creating empty list\n",
        "L3 = []\n",
        "\n",
        "#sorting in particular order\n",
        "L2 = [L1[5],length-5,L1[4],length-4,L1[3],length-3]\n",
        "\n",
        "#using for loop and while loop \n",
        "for i in L2:\n",
        "  while L2:\n",
        "    L3.append(i)  # appending the values into list\n",
        "    break\n",
        "\n",
        "#printing the output\n",
        "print(\"The required output : \",L3)"
      ],
      "metadata": {
        "id": "tNeyqm47AuCp",
        "outputId": "e4b2b5c4-7ba8-4ab6-ea3f-af53d4037768",
        "colab": {
          "base_uri": "https://localhost:8080/"
        }
      },
      "execution_count": null,
      "outputs": [
        {
          "output_type": "stream",
          "name": "stdout",
          "text": [
            "The required output :  [6, 1, 5, 2, 4, 3]\n"
          ]
        }
      ]
    },
    {
      "cell_type": "code",
      "source": [],
      "metadata": {
        "id": "1BSldyH7AuEY"
      },
      "execution_count": null,
      "outputs": []
    },
    {
      "cell_type": "code",
      "source": [
        "# Given list\n",
        "L1 = [1,2,3,4,5,6]\n",
        "\n",
        "# len function\n",
        "length = len(L1)\n",
        "\n",
        "#creating empty list\n",
        "L3 = []\n",
        "\n",
        "a = L1[:-4:-1]\n",
        "b = L1[0]\n",
        "\n",
        "#using for loop and while loop\n",
        "for i in a:\n",
        "  while True:\n",
        "    L3.append(i)\n",
        "    L3.append(b)\n",
        "    break\n",
        "  b=b+1\n",
        "#printing output\n",
        "\n",
        "print(\"The required output : \",L3)"
      ],
      "metadata": {
        "id": "g9svR-oaAuFv",
        "outputId": "827e5fdb-7487-4377-bd3c-e4c934d8d923",
        "colab": {
          "base_uri": "https://localhost:8080/"
        }
      },
      "execution_count": null,
      "outputs": [
        {
          "output_type": "stream",
          "name": "stdout",
          "text": [
            "The required output :  [6, 1, 5, 2, 4, 3]\n"
          ]
        }
      ]
    },
    {
      "cell_type": "code",
      "source": [],
      "metadata": {
        "id": "uhcfcuQPAuHB"
      },
      "execution_count": null,
      "outputs": []
    },
    {
      "cell_type": "code",
      "source": [],
      "metadata": {
        "id": "yvqKsRy8AuIb"
      },
      "execution_count": null,
      "outputs": []
    },
    {
      "cell_type": "code",
      "source": [],
      "metadata": {
        "id": "vdA_aXfIAuJ_"
      },
      "execution_count": null,
      "outputs": []
    },
    {
      "cell_type": "code",
      "source": [],
      "metadata": {
        "id": "aGcmdEPKAuLS"
      },
      "execution_count": null,
      "outputs": []
    },
    {
      "cell_type": "code",
      "source": [],
      "metadata": {
        "id": "xjZGiB0dAuMr"
      },
      "execution_count": null,
      "outputs": []
    },
    {
      "cell_type": "code",
      "source": [],
      "metadata": {
        "id": "uomqMv1gAuQo"
      },
      "execution_count": null,
      "outputs": []
    }
  ],
  "metadata": {
    "colab": {
      "provenance": []
    },
    "kernelspec": {
      "display_name": "Python 3",
      "name": "python3"
    }
  },
  "nbformat": 4,
  "nbformat_minor": 0
}